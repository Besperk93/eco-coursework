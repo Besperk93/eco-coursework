{
 "cells": [
  {
   "cell_type": "markdown",
   "id": "2ce1f5d6",
   "metadata": {},
   "source": [
    "_Prepare Imports_\n",
    "\n",
    "Import the packages and data required to run our simulation"
   ]
  },
  {
   "cell_type": "code",
   "execution_count": 1,
   "id": "f0d2bd8b",
   "metadata": {},
   "outputs": [],
   "source": [
    "import array\n",
    "import random\n",
    "import json\n",
    "import numpy as np\n",
    "import matplotlib\n",
    "import matplotlib.pyplot as plt\n",
    "import pandas as pd\n",
    "from deap import algorithms\n",
    "from deap import base\n",
    "from deap import creator\n",
    "from deap import tools\n",
    "\n",
    "data = pd.read_csv(\"clean-data.csv\").reset_index(drop=True)"
   ]
  },
  {
   "cell_type": "markdown",
   "id": "64464490",
   "metadata": {},
   "source": [
    "_Create Masks_\n",
    "\n",
    "Create a mask that can be used to quickly filter the dataframe containing the players"
   ]
  },
  {
   "cell_type": "code",
   "execution_count": null,
   "id": "c3efb15d",
   "metadata": {},
   "outputs": [],
   "source": [
    "NBR_PLAYERS = len(data.index)\n",
    "\n",
    "# Create masks for each of the positions\n",
    "GK = np.zeros(num_players)\n",
    "MID = np.zeros(num_players)\n",
    "DEF = np.zeros(num_players)\n",
    "STR = np.zeros(num_players)\n",
    "\n",
    "for i in range(num_players):\n",
    "    if data['Position'][i] == 'GK':\n",
    "        GK[i] = 1\n",
    "    elif data['Position'][i] == 'DEF':\n",
    "        DEF[i] = 1\n",
    "    elif data['Position'][i] == 'MID':\n",
    "        MID[i] = 1\n",
    "    elif data['Position'][i] == 'STR':\n",
    "        STR[i] =  1"
   ]
  },
  {
   "cell_type": "markdown",
   "id": "de5bac63",
   "metadata": {},
   "source": [
    "_Begin Creating Deap Instances_"
   ]
  },
  {
   "cell_type": "code",
   "execution_count": 2,
   "id": "7dd74c39",
   "metadata": {},
   "outputs": [
    {
     "ename": "NameError",
     "evalue": "name 'weights' is not defined",
     "output_type": "error",
     "traceback": [
      "\u001b[0;31m---------------------------------------------------------------------------\u001b[0m",
      "\u001b[0;31mNameError\u001b[0m                                 Traceback (most recent call last)",
      "\u001b[0;32m<ipython-input-2-09238386f6d5>\u001b[0m in \u001b[0;36m<module>\u001b[0;34m\u001b[0m\n\u001b[0;32m----> 1\u001b[0;31m \u001b[0mcreator\u001b[0m\u001b[0;34m.\u001b[0m\u001b[0mcreate\u001b[0m\u001b[0;34m(\u001b[0m\u001b[0;34m\"FitnessMax\"\u001b[0m\u001b[0;34m,\u001b[0m \u001b[0mbase\u001b[0m\u001b[0;34m.\u001b[0m\u001b[0mFitness\u001b[0m\u001b[0;34m,\u001b[0m \u001b[0mweights\u001b[0m\u001b[0;34m(\u001b[0m\u001b[0;36m1.0\u001b[0m\u001b[0;34m,\u001b[0m\u001b[0;34m)\u001b[0m\u001b[0;34m)\u001b[0m\u001b[0;34m\u001b[0m\u001b[0;34m\u001b[0m\u001b[0m\n\u001b[0m\u001b[1;32m      2\u001b[0m \u001b[0mcreator\u001b[0m\u001b[0;34m.\u001b[0m\u001b[0mcreate\u001b[0m\u001b[0;34m(\u001b[0m\u001b[0;34m\"Individual\"\u001b[0m\u001b[0;34m,\u001b[0m \u001b[0mlist\u001b[0m\u001b[0;34m,\u001b[0m \u001b[0mfitness\u001b[0m\u001b[0;34m=\u001b[0m\u001b[0mcreator\u001b[0m\u001b[0;34m.\u001b[0m\u001b[0mFitnessMax\u001b[0m\u001b[0;34m)\u001b[0m\u001b[0;34m\u001b[0m\u001b[0;34m\u001b[0m\u001b[0m\n",
      "\u001b[0;31mNameError\u001b[0m: name 'weights' is not defined"
     ]
    }
   ],
   "source": [
    "creator.create(\"FitnessMax\", base.Fitness, weights=(1.0,))\n",
    "creator.create(\"Individual\", list, fitness=creator.FitnessMax)\n",
    "\n",
    "indices = [A, B, C, D, E, F, G, H, I, J, K]\n"
   ]
  },
  {
   "cell_type": "code",
   "execution_count": null,
   "id": "5c482a34",
   "metadata": {},
   "outputs": [],
   "source": []
  },
  {
   "cell_type": "code",
   "execution_count": null,
   "id": "4b1d2f5b",
   "metadata": {},
   "outputs": [],
   "source": []
  }
 ],
 "metadata": {
  "kernelspec": {
   "display_name": "Python 3",
   "language": "python",
   "name": "python3"
  },
  "language_info": {
   "codemirror_mode": {
    "name": "ipython",
    "version": 3
   },
   "file_extension": ".py",
   "mimetype": "text/x-python",
   "name": "python",
   "nbconvert_exporter": "python",
   "pygments_lexer": "ipython3",
   "version": "3.9.7"
  }
 },
 "nbformat": 4,
 "nbformat_minor": 5
}
